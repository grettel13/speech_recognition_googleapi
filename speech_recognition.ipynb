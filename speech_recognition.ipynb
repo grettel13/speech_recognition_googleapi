{
 "metadata": {
  "language_info": {
   "codemirror_mode": {
    "name": "ipython",
    "version": 3
   },
   "file_extension": ".py",
   "mimetype": "text/x-python",
   "name": "python",
   "nbconvert_exporter": "python",
   "pygments_lexer": "ipython3",
   "version": "3.8.3-final"
  },
  "orig_nbformat": 2,
  "kernelspec": {
   "name": "Python 3.8.3 64-bit ('base': conda)",
   "display_name": "Python 3.8.3 64-bit ('base': conda)",
   "metadata": {
    "interpreter": {
     "hash": "dca0ade3e726a953b501b15e8e990130d2b7799f14cfd9f4271676035ebe5511"
    }
   }
  }
 },
 "nbformat": 4,
 "nbformat_minor": 2,
 "cells": [
  {
   "cell_type": "markdown",
   "metadata": {},
   "source": [
    "# Speech-to-text Transcription using Google API\n",
    "This notebook shows a few options for converting video to audio to text\n",
    "\n",
    "- Convert video -> audio\n",
    "- Convert audio -> text using Google Cloud [speech-to-text API](https://cloud.google.com/speech-to-text/)\n",
    "    - Simple conversion for small files (no GCP account required)\n",
    "    - Queue up larger files up to 480 minutes"
   ]
  },
  {
   "cell_type": "markdown",
   "metadata": {},
   "source": [
    "## Convert video -> audio\n",
    "\n",
    "First, install and import libraries"
   ]
  },
  {
   "cell_type": "code",
   "execution_count": 3,
   "metadata": {},
   "outputs": [],
   "source": [
    "#pip install SpeechRecognition moviepy"
   ]
  },
  {
   "cell_type": "code",
   "execution_count": 2,
   "metadata": {},
   "outputs": [],
   "source": [
    "import moviepy.editor as mp"
   ]
  },
  {
   "cell_type": "markdown",
   "metadata": {},
   "source": [
    "Conversion"
   ]
  },
  {
   "cell_type": "code",
   "execution_count": 382,
   "metadata": {},
   "outputs": [
    {
     "output_type": "stream",
     "name": "stderr",
     "text": [
      "chunk:  19%|█▉        | 276/1422 [00:00<00:00, 2754.98it/s, now=None]MoviePy - Writing audio in schitts_box.wav\n",
      "                                                                      MoviePy - Done.\n"
     ]
    }
   ],
   "source": [
    "# Load video file\n",
    "clip = mp.VideoFileClip(r\"schitts_box.mp4\") \n",
    "\n",
    "# Create .wav file\n",
    "clip.audio.write_audiofile(r\"schitts_box.wav\")"
   ]
  },
  {
   "cell_type": "markdown",
   "metadata": {},
   "source": [
    "File should be created in directory"
   ]
  },
  {
   "cell_type": "markdown",
   "metadata": {},
   "source": [
    "## Convert audio to text\n",
    "\n",
    "Google Cloud Platform has 3 types of speech recognition platforms. More details on [Google Cloud Platform](https://cloud.google.com/speech-to-text/docs/basics)\n",
    "\n",
    "1. Small audio files - for audio files ~1 minute long\n",
    "2. Larger audio files - use the **Long Running Operation**. up to ~480 minutes\n",
    "3. Real-time conversion - *not* used in this notebook."
   ]
  },
  {
   "cell_type": "markdown",
   "metadata": {},
   "source": [
    "### 1. Small audio files - No Google Account\n",
    "\n",
    "You can get a limited amount of transcription *without* a Google account by using this code.\n",
    "\n",
    "The amount of text is really limited. Not covered in this notebook, but you can still get around this limitation with longer files by doing the following:\n",
    "\n",
    "1. Chunk your audio file into small sizes. There are ways to do this by silence so that words are not cut off unexpectedly\n",
    "2. Iterate through this synchronous API call with each audio chunk\n",
    "3. Merge resulting transcriptions together"
   ]
  },
  {
   "cell_type": "code",
   "execution_count": 363,
   "metadata": {},
   "outputs": [],
   "source": [
    "import speech_recognition as sr \n",
    "\n",
    "# Define recognizer\n",
    "r = sr.Recognizer()\n",
    "\n",
    "# Load audio file\n",
    "audio_filename = \"fold_in_the_cheese.wav\"\n",
    "audio = sr.AudioFile(audio_filename)"
   ]
  },
  {
   "cell_type": "code",
   "execution_count": 364,
   "metadata": {},
   "outputs": [
    {
     "output_type": "stream",
     "name": "stdout",
     "text": [
      "Output: it's not your mother's recipe now I'm passing it on to you so try to keep up next step is to fold in the cheese\n"
     ]
    }
   ],
   "source": [
    "with audio as source:\n",
    "  audio_file = r.record(source)\n",
    "result = r.recognize_google(audio_file)\n",
    "\n",
    "print(f'Output: {result}')"
   ]
  },
  {
   "cell_type": "markdown",
   "metadata": {},
   "source": [
    "Write that to a file in directory."
   ]
  },
  {
   "cell_type": "code",
   "execution_count": 204,
   "metadata": {},
   "outputs": [
    {
     "output_type": "stream",
     "name": "stdout",
     "text": [
      "ready!\n"
     ]
    }
   ],
   "source": [
    "transcript_filename = audio_filename.split('.')[0] + '.txt'\n",
    "\n",
    "f= open(transcript_filename,\"w+\")\n",
    "f.write(result)\n",
    "f.close()\n",
    "print(\"ready!\")"
   ]
  },
  {
   "cell_type": "markdown",
   "metadata": {},
   "source": [
    "### 1. Small audio files - with Google account\n",
    "\n",
    "Limit is ~ 1 minute duration. \n",
    "\n",
    "In this next section, we will use a Google account to perform speech recognition.\n",
    "\n",
    "Steps:\n",
    "\n",
    "1. Speech-to-text API service setup\n",
    "2. Storage setup - required to upload to storage in order to queue audio file for conversion\n",
    "3. Convert audio -> text"
   ]
  },
  {
   "cell_type": "markdown",
   "metadata": {},
   "source": [
    "#### Step 1 - Speech-to-text API service Setup\n",
    "\n",
    "It is required to **first** sign up for GCP account and create a speech-to-text service. Follow this Google [guide](https://cloud.google.com/speech-to-text/docs/quickstart-client-libraries) to do that\n",
    "\n",
    "Below are steps part of the install guide to set json path and confirm functionality."
   ]
  },
  {
   "cell_type": "code",
   "execution_count": 74,
   "metadata": {},
   "outputs": [],
   "source": [
    "#pip install --upgrade google-cloud-speech"
   ]
  },
  {
   "cell_type": "markdown",
   "metadata": {},
   "source": [
    "The steps provided for setting the environment variable ```GOOGLE_APPLICATION_CREDENTIALS``` from the terminal did not work for me, but this code below did"
   ]
  },
  {
   "cell_type": "code",
   "execution_count": 27,
   "metadata": {},
   "outputs": [],
   "source": [
    "import os\n",
    "json_path = {your_path}\n",
    "os.environ[\"GOOGLE_APPLICATION_CREDENTIALS\"]=json_path"
   ]
  },
  {
   "cell_type": "markdown",
   "metadata": {},
   "source": [
    "Code below is provided by Google to test your setup"
   ]
  },
  {
   "cell_type": "code",
   "execution_count": 219,
   "metadata": {},
   "outputs": [
    {
     "output_type": "stream",
     "name": "stdout",
     "text": [
      "Transcript: how old is the Brooklyn Bridge\n"
     ]
    }
   ],
   "source": [
    "# Imports the Google Cloud client library\n",
    "from google.cloud import speech\n",
    "\n",
    "# Instantiates a client\n",
    "client = speech.SpeechClient()\n",
    "\n",
    "# The name of the audio file to transcribe\n",
    "gcs_uri = \"gs://cloud-samples-data/speech/brooklyn_bridge.raw\"\n",
    "\n",
    "audio = speech.RecognitionAudio(uri=gcs_uri)\n",
    "\n",
    "config = speech.RecognitionConfig(\n",
    "    encoding=speech.RecognitionConfig.AudioEncoding.LINEAR16,\n",
    "    sample_rate_hertz=16000,\n",
    "    language_code=\"en-US\",\n",
    ")\n",
    "\n",
    "# Detects speech in the audio file\n",
    "response = client.recognize(config=config, audio=audio)\n",
    "\n",
    "for result in response.results:\n",
    "    print(\"Transcript: {}\".format(result.alternatives[0].transcript))"
   ]
  },
  {
   "cell_type": "markdown",
   "metadata": {},
   "source": [
    "#### Step 2 - Google Cloud Storage Setup\n",
    "\n",
    "Follow Google [guide](https://cloud.google.com/storage) to create storage\n",
    "\n",
    "OR \n",
    "\n",
    "Use the following to create new storage bucket"
   ]
  },
  {
   "cell_type": "code",
   "execution_count": 51,
   "metadata": {},
   "outputs": [],
   "source": [
    "#pip install pydub\n",
    "#pip install --upgrade google-cloud-storage"
   ]
  },
  {
   "cell_type": "code",
   "execution_count": 89,
   "metadata": {},
   "outputs": [
    {
     "output_type": "stream",
     "name": "stdout",
     "text": [
      "Bucket my-new-bucket-creek created.\n"
     ]
    }
   ],
   "source": [
    "# import library\n",
    "from google.cloud import storage\n",
    "\n",
    "# set client\n",
    "storage_client = storage.Client()\n",
    "\n",
    "# name bucket\n",
    "bucket_name = \"my-new-bucket-creek\"\n",
    "\n",
    "# create bucket\n",
    "bucket = storage_client.create_bucket(bucket_name)\n",
    "\n",
    "print(\"Bucket {} created.\".format(bucket.name))"
   ]
  },
  {
   "cell_type": "markdown",
   "metadata": {},
   "source": [
    "#### Step 3 - Convert audio -> text"
   ]
  },
  {
   "cell_type": "code",
   "execution_count": 368,
   "metadata": {},
   "outputs": [
    {
     "output_type": "stream",
     "name": "stdout",
     "text": [
      "Transcript: This is not your mother's recipe. Yes, and now I'm passing it on to you. So try to keep up. Oh next step is to fold in the cheese.\nTranscript:  What does that mean? What does fold in the cheese mean? He holds it in I understand that but how do you fold it? Do you fold it in half like a piece of paper and drop it in the pot or what do you do and I cannot show you everything. Okay? Well, can you show me one thing you just what you do? You just fold it in. Okay. I don't know how to fold broken cheese like that. I don't know how to be any clearer. You take that thing that's in your head, huh? And you if you say fooled in one more time.\nTranscript:  I'm that's follows it in. This is your recipe you fooled in the cheese, then don't you dare you fold it in David?\n"
     ]
    }
   ],
   "source": [
    "# The name of the audio file to transcribe\n",
    "bucket = 'my-new-bucket-creek'\n",
    "audio_file = 'fold_in_the_cheese.wav'\n",
    "\n",
    "gcs_uri = 'gs://' + bucket + '/' + audio_file\n",
    "\n",
    "audio = speech.RecognitionAudio(uri=gcs_uri)\n",
    "\n",
    "config = speech.RecognitionConfig(\n",
    "    encoding=speech.RecognitionConfig.AudioEncoding.LINEAR16,\n",
    "    #sample_rate_hertz=44100, #not required for .wav files since the frame rate is in the header\n",
    "    language_code=\"en-US\",\n",
    "    model='video', #specify model if applicable\n",
    "    enable_automatic_punctuation=True)\n",
    "\n",
    "# Detects speech in the audio file\n",
    "response = client.recognize(config=config, audio=audio) #synchronous\n",
    "\n",
    "for result in response.results:\n",
    "    print(\"Transcript: {}\".format(result.alternatives[0].transcript))"
   ]
  },
  {
   "cell_type": "markdown",
   "metadata": {},
   "source": [
    "### 2. Larger audio files - up to ~480 minutes\n",
    "\n",
    "Import libraries and helper functions"
   ]
  },
  {
   "cell_type": "code",
   "execution_count": 388,
   "metadata": {},
   "outputs": [],
   "source": [
    "from pydub import AudioSegment\n",
    "import io\n",
    "import os\n",
    "from google.cloud import speech\n",
    "import wave\n",
    "from google.cloud import storage\n",
    "\n",
    "def upload_blob(bucket_name, audio_path, audio_file, destination_blob_name):\n",
    "    file_name = audio_path + audio_file\n",
    "\n",
    "    # upload audio file to storage bucket    \n",
    "    storage_client = storage.Client()\n",
    "    bucket = storage_client.get_bucket(bucket_name)\n",
    "    blob = bucket.blob(destination_blob_name)\n",
    "\n",
    "    blob.chunk_size = 5 * 1024 * 1024 # Set 5 MB blob size\n",
    "    blob.upload_from_filename(file_name)\n",
    "\n",
    "    print('upload complete')\n",
    "    return\n",
    "\n",
    "def write_transcripts(output_filepath, transcript_file,transcript):\n",
    "    f= open(output_filepath + transcript_file,\"w+\")\n",
    "    f.write(transcript)\n",
    "    f.close()\n",
    "    return\n",
    "\n",
    "def delete_blob(bucket_name, blob_name):\n",
    "    storage_client = storage.Client()\n",
    "    bucket = storage_client.get_bucket(bucket_name)\n",
    "    blob = bucket.blob(blob_name)\n",
    "\n",
    "    blob.delete()\n",
    "    return"
   ]
  },
  {
   "cell_type": "code",
   "execution_count": 392,
   "metadata": {},
   "outputs": [],
   "source": [
    "def prep_audio_file(audio_file):\n",
    "    '''\n",
    "    This function makes sure audio file meets requirements for transcription:\n",
    "    - Must be mono\n",
    "    '''\n",
    "    # modify audio file\n",
    "    sound = AudioSegment.from_wav(audio_file)\n",
    "    sound = sound.set_channels(1)\n",
    "\n",
    "    # can be useful to resample rate to 16000. google recommends to not do this but can be used to tune\n",
    "    # sound = sound.set_frame_rate(16000) \n",
    "    sound.export(audio_file, format=\"wav\")\n",
    "    return"
   ]
  },
  {
   "cell_type": "markdown",
   "metadata": {},
   "source": [
    "Simple transcription - single blob of text without speakers"
   ]
  },
  {
   "cell_type": "code",
   "execution_count": 390,
   "metadata": {},
   "outputs": [],
   "source": [
    "def google_transcribe_single(audio_file, bucket): \n",
    "    # convert audio to text\n",
    "    gcs_uri = 'gs://' + bucket + '/' + audio_file\n",
    "    transcript = ''\n",
    "    \n",
    "    client = speech.SpeechClient()\n",
    "    audio = speech.RecognitionAudio(uri=gcs_uri)\n",
    "    frame_rate = 44100\n",
    "\n",
    "    config = speech.RecognitionConfig(\n",
    "        encoding=speech.RecognitionConfig.AudioEncoding.LINEAR16,\n",
    "        sample_rate_hertz=frame_rate,\n",
    "        language_code='en-US',\n",
    "        model='video',\n",
    "        enable_automatic_punctuation=True) # Enable automatic punctuation\n",
    "\n",
    "    # Detects speech in the audio file\n",
    "    operation = client.long_running_recognize(config=config, audio=audio) #asynchronous\n",
    "    response = operation.result(timeout=10000)\n",
    "\n",
    "    for result in response.results:\n",
    "        transcript += result.alternatives[0].transcript\n",
    "    \n",
    "    return transcript"
   ]
  },
  {
   "cell_type": "code",
   "execution_count": 394,
   "metadata": {},
   "outputs": [
    {
     "output_type": "stream",
     "name": "stdout",
     "text": [
      "upload complete\n",
      "transcript ready\n"
     ]
    }
   ],
   "source": [
    "path = {your_path}\n",
    "# audio_file = 'converted_microjourney.wav'\n",
    "bucket = 'my-new-bucket-creek'\n",
    "audio_file = 'schitts_box.wav'\n",
    "\n",
    "# do only if file is .wav\n",
    "prep_audio_file(audio_file)\n",
    "\n",
    "# upload audio file to storage bucket    \n",
    "upload_blob(bucket, path, audio_file, audio_file)\n",
    "\n",
    "# create transcript\n",
    "transcript = google_transcribe_single(audio_file, bucket)\n",
    "transcript_file = audio_file.split('.')[0] + '.txt'\n",
    "\n",
    "write_transcripts(path, transcript_file, transcript)\n",
    "print('transcript ready')"
   ]
  },
  {
   "cell_type": "code",
   "execution_count": 189,
   "metadata": {},
   "outputs": [],
   "source": [
    "# remove audio file from bucket\n",
    "delete_blob(bucket, audio_file)"
   ]
  },
  {
   "cell_type": "markdown",
   "metadata": {},
   "source": [
    "Multiple speaker transcription"
   ]
  },
  {
   "cell_type": "code",
   "execution_count": 206,
   "metadata": {},
   "outputs": [],
   "source": [
    "from google.cloud import speech_v1p1beta1 as speech_beta\n",
    "from google.cloud.speech_v1p1beta1 import types as types_beta"
   ]
  },
  {
   "cell_type": "code",
   "execution_count": 380,
   "metadata": {},
   "outputs": [],
   "source": [
    "def google_transcribe_speakers(audio_file, bucket):\n",
    "    \n",
    "    gcs_uri = 'gs://' + bucket + '/' + audio_file\n",
    "    transcript = ''\n",
    "    \n",
    "    client = speech_beta.SpeechClient()\n",
    "    audio = speech_beta.RecognitionAudio(uri=gcs_uri)\n",
    "    frame_rate = 44100 #set your frame rate\n",
    "\n",
    "    config = types_beta.RecognitionConfig(\n",
    "        encoding=speech_beta.RecognitionConfig.AudioEncoding.LINEAR16,\n",
    "        sample_rate_hertz=frame_rate,\n",
    "        language_code='en-US',\n",
    "        enable_automatic_punctuation=True, # Enable automatic punctuation\n",
    "        model='video',\n",
    "        enable_speaker_diarization=True,\n",
    "        diarization_speaker_count=2)\n",
    "\n",
    "    # Detects speech in the audio file\n",
    "    operation = client.long_running_recognize(config=config, audio=audio)\n",
    "    response = operation.result(timeout=10000)\n",
    "\n",
    "    # The transcript within each result is separate and sequential per result.\n",
    "    # However, the words list within an alternative includes all the words\n",
    "    # from all the results thus far. Thus, to get all the words with speaker\n",
    "    # tags, you only have to take the words list from the last result:\n",
    "    result = response.results[-1] \n",
    "    words_info = result.alternatives[0].words \n",
    "    \n",
    "    tag=1 \n",
    "    speak=\"\" \n",
    "\n",
    "    for word_info in words_info:\n",
    "        if word_info.speaker_tag==tag:\n",
    "            speak = speak + \" \" + word_info.word\n",
    "        else:\n",
    "            transcript += f'speaker {tag}: {speak}' + '\\n'\n",
    "            tag = word_info.speaker_tag \n",
    "            speak = word_info.word\n",
    " \n",
    "    transcript += f'speaker {tag}: {speak}'\n",
    "    return transcript"
   ]
  },
  {
   "cell_type": "code",
   "execution_count": 386,
   "metadata": {},
   "outputs": [
    {
     "output_type": "stream",
     "name": "stdout",
     "text": [
      "transcript ready\n"
     ]
    }
   ],
   "source": [
    "audio_file = 'schitts_box.wav'\n",
    "# audio_file = 'converted_microjourney.wav'\n",
    "\n",
    "# do only if file is .wav\n",
    "prep_audio_file(audio_file)\n",
    "\n",
    "# upload audio file to storage bucket    \n",
    "upload_blob(bucket, path, audio_file, audio_file)\n",
    "\n",
    "transcript = google_transcribe_speakers(audio_file, bucket)\n",
    "transcript_file = audio_file.split('.')[0] + '_speakers' + '.txt'\n",
    "\n",
    "write_transcripts(path,transcript_file,transcript)\n",
    "print('transcript ready')"
   ]
  },
  {
   "cell_type": "code",
   "execution_count": 340,
   "metadata": {},
   "outputs": [],
   "source": [
    "# remove audio file from bucket\n",
    "delete_blob(bucket, audio_file)"
   ]
  },
  {
   "cell_type": "markdown",
   "metadata": {},
   "source": [
    "Pulling word timestamps"
   ]
  },
  {
   "cell_type": "code",
   "execution_count": 378,
   "metadata": {},
   "outputs": [],
   "source": [
    "def transcribe_word_time_offsets(audio_file, bucket):\n",
    "    \"\"\"Transcribe the given audio file asynchronously and output the word time\n",
    "    offsets.\"\"\"\n",
    "    gcs_uri = 'gs://' + bucket + '/' + audio_file\n",
    "    transcript = ''\n",
    "\n",
    "    client = speech_beta.SpeechClient()\n",
    "    audio = speech_beta.RecognitionAudio(uri=gcs_uri)\n",
    "    frame_rate = 16000\n",
    "\n",
    "    config = types_beta.RecognitionConfig(\n",
    "        encoding=speech_beta.RecognitionConfig.AudioEncoding.LINEAR16,\n",
    "        sample_rate_hertz=frame_rate,\n",
    "        language_code='en-US',\n",
    "        enable_automatic_punctuation=True, # Enable automatic punctuation\n",
    "        enable_word_time_offsets=True)\n",
    "\n",
    "    operation = client.long_running_recognize(config=config, audio=audio)\n",
    "\n",
    "    print('Waiting for operation to complete...')\n",
    "    result = operation.result(timeout=10000)\n",
    "\n",
    "    for result in result.results:\n",
    "        alternative = result.alternatives[0]\n",
    "        print('Transcript: {}'.format(alternative.transcript))\n",
    "        print('Confidence: {}'.format(alternative.confidence))\n",
    "\n",
    "        for word_info in alternative.words:\n",
    "            word = word_info.word\n",
    "            start_time = word_info.start_time\n",
    "            end_time = word_info.end_time\n",
    "            print('Word: {}, start_time: {}, end_time: {}'.format(\n",
    "                word,\n",
    "                # start_time.seconds + start_time.micros * 1e-6,\n",
    "                # end_time.seconds + end_time.micros * 1e-6))\n",
    "                start_time.total_seconds(),\n",
    "                end_time.total_seconds()))"
   ]
  },
  {
   "cell_type": "code",
   "execution_count": 381,
   "metadata": {},
   "outputs": [
    {
     "output_type": "stream",
     "name": "stdout",
     "text": [
      "upload complete\n",
      "Waiting for operation to complete...\n",
      "Transcript: And the reason it's a wonderful hotel is not because of the fancy beds any hotel can go and buy a fancy bed. The reason it's a wonderful hotel is because of the people who work there if you walk past somebody at the Four Seasons in this and they say hello to you. You get the feeling that they actually wanted to say hello to you. It's not that somebody told them that you have to say hello to all the customers say hello to all the guests, right? You actually feel that they care now in their Lobby they have a coffee stand and I want afternoon I went.\n",
      "Confidence: 0.7995439767837524\n",
      "Word: And, start_time: 0.7, end_time: 0.9\n",
      "Word: the, start_time: 0.9, end_time: 1.0\n",
      "Word: reason, start_time: 1.0, end_time: 1.3\n",
      "Word: it's, start_time: 1.3, end_time: 1.4\n",
      "Word: a, start_time: 1.4, end_time: 1.5\n",
      "Word: wonderful, start_time: 1.5, end_time: 1.9\n",
      "Word: hotel, start_time: 1.9, end_time: 2.2\n",
      "Word: is, start_time: 2.2, end_time: 2.3\n",
      "Word: not, start_time: 2.3, end_time: 2.5\n",
      "Word: because, start_time: 2.5, end_time: 2.8\n",
      "Word: of, start_time: 2.8, end_time: 2.9\n",
      "Word: the, start_time: 2.9, end_time: 2.9\n",
      "Word: fancy, start_time: 2.9, end_time: 3.3\n",
      "Word: beds, start_time: 3.3, end_time: 3.8\n",
      "Word: any, start_time: 3.8, end_time: 4.0\n",
      "Word: hotel, start_time: 4.0, end_time: 4.8\n",
      "Word: can, start_time: 4.9, end_time: 5.1\n",
      "Word: go, start_time: 5.1, end_time: 5.4\n",
      "Word: and, start_time: 5.4, end_time: 5.6\n",
      "Word: buy, start_time: 5.6, end_time: 6.3\n",
      "Word: a, start_time: 6.3, end_time: 6.4\n",
      "Word: fancy, start_time: 6.4, end_time: 6.8\n",
      "Word: bed., start_time: 6.8, end_time: 7.3\n",
      "Word: The, start_time: 7.5, end_time: 7.7\n",
      "Word: reason, start_time: 7.7, end_time: 7.9\n",
      "Word: it's, start_time: 7.9, end_time: 8.1\n",
      "Word: a, start_time: 8.1, end_time: 8.1\n",
      "Word: wonderful, start_time: 8.1, end_time: 8.5\n",
      "Word: hotel, start_time: 8.5, end_time: 9.1\n",
      "Word: is, start_time: 9.1, end_time: 9.3\n",
      "Word: because, start_time: 9.3, end_time: 9.6\n",
      "Word: of, start_time: 9.6, end_time: 9.7\n",
      "Word: the, start_time: 9.7, end_time: 9.7\n",
      "Word: people, start_time: 9.7, end_time: 10.0\n",
      "Word: who, start_time: 10.0, end_time: 10.2\n",
      "Word: work, start_time: 10.2, end_time: 10.5\n",
      "Word: there, start_time: 10.5, end_time: 10.9\n",
      "Word: if, start_time: 11.2, end_time: 11.3\n",
      "Word: you, start_time: 11.3, end_time: 11.4\n",
      "Word: walk, start_time: 11.4, end_time: 11.7\n",
      "Word: past, start_time: 11.7, end_time: 12.0\n",
      "Word: somebody, start_time: 12.0, end_time: 12.3\n",
      "Word: at, start_time: 12.3, end_time: 12.3\n",
      "Word: the, start_time: 12.3, end_time: 12.4\n",
      "Word: Four, start_time: 12.4, end_time: 12.6\n",
      "Word: Seasons, start_time: 12.6, end_time: 12.9\n",
      "Word: in, start_time: 12.9, end_time: 13.0\n",
      "Word: this, start_time: 13.0, end_time: 13.3\n",
      "Word: and, start_time: 13.3, end_time: 13.5\n",
      "Word: they, start_time: 13.5, end_time: 13.6\n",
      "Word: say, start_time: 13.6, end_time: 13.7\n",
      "Word: hello, start_time: 13.7, end_time: 14.0\n",
      "Word: to, start_time: 14.0, end_time: 14.1\n",
      "Word: you., start_time: 14.1, end_time: 14.5\n",
      "Word: You, start_time: 14.8, end_time: 14.9\n",
      "Word: get, start_time: 14.9, end_time: 15.0\n",
      "Word: the, start_time: 15.0, end_time: 15.1\n",
      "Word: feeling, start_time: 15.1, end_time: 15.5\n",
      "Word: that, start_time: 15.5, end_time: 15.7\n",
      "Word: they, start_time: 15.7, end_time: 15.8\n",
      "Word: actually, start_time: 15.8, end_time: 16.3\n",
      "Word: wanted, start_time: 16.3, end_time: 16.7\n",
      "Word: to, start_time: 16.7, end_time: 16.7\n",
      "Word: say, start_time: 16.7, end_time: 16.9\n",
      "Word: hello, start_time: 16.9, end_time: 17.2\n",
      "Word: to, start_time: 17.2, end_time: 17.3\n",
      "Word: you., start_time: 17.3, end_time: 17.5\n",
      "Word: It's, start_time: 17.6, end_time: 17.8\n",
      "Word: not, start_time: 17.8, end_time: 17.9\n",
      "Word: that, start_time: 17.9, end_time: 18.0\n",
      "Word: somebody, start_time: 18.0, end_time: 18.2\n",
      "Word: told, start_time: 18.2, end_time: 18.7\n",
      "Word: them, start_time: 18.7, end_time: 18.7\n",
      "Word: that, start_time: 18.7, end_time: 18.9\n",
      "Word: you, start_time: 18.9, end_time: 19.0\n",
      "Word: have, start_time: 19.0, end_time: 19.1\n",
      "Word: to, start_time: 19.1, end_time: 19.2\n",
      "Word: say, start_time: 19.2, end_time: 19.3\n",
      "Word: hello, start_time: 19.3, end_time: 19.5\n",
      "Word: to, start_time: 19.5, end_time: 19.6\n",
      "Word: all, start_time: 19.6, end_time: 19.8\n",
      "Word: the, start_time: 19.8, end_time: 19.9\n",
      "Word: customers, start_time: 19.9, end_time: 20.4\n",
      "Word: say, start_time: 20.5, end_time: 20.6\n",
      "Word: hello, start_time: 20.6, end_time: 20.8\n",
      "Word: to, start_time: 20.8, end_time: 20.9\n",
      "Word: all, start_time: 20.9, end_time: 21.0\n",
      "Word: the, start_time: 21.0, end_time: 21.1\n",
      "Word: guests,, start_time: 21.1, end_time: 21.7\n",
      "Word: right?, start_time: 21.7, end_time: 21.9\n",
      "Word: You, start_time: 21.9, end_time: 22.0\n",
      "Word: actually, start_time: 22.0, end_time: 22.4\n",
      "Word: feel, start_time: 22.4, end_time: 23.3\n",
      "Word: that, start_time: 23.3, end_time: 23.5\n",
      "Word: they, start_time: 23.5, end_time: 23.6\n",
      "Word: care, start_time: 23.6, end_time: 24.1\n",
      "Word: now, start_time: 24.6, end_time: 24.8\n",
      "Word: in, start_time: 24.8, end_time: 25.0\n",
      "Word: their, start_time: 25.0, end_time: 25.2\n",
      "Word: Lobby, start_time: 25.2, end_time: 25.9\n",
      "Word: they, start_time: 25.9, end_time: 26.2\n",
      "Word: have, start_time: 26.2, end_time: 26.9\n",
      "Word: a, start_time: 27.3, end_time: 27.6\n",
      "Word: coffee, start_time: 27.6, end_time: 27.9\n",
      "Word: stand, start_time: 27.9, end_time: 28.5\n",
      "Word: and, start_time: 28.8, end_time: 29.1\n",
      "Word: I, start_time: 29.1, end_time: 29.1\n",
      "Word: want, start_time: 29.1, end_time: 29.3\n",
      "Word: afternoon, start_time: 29.3, end_time: 29.8\n",
      "Word: I, start_time: 29.8, end_time: 29.8\n",
      "Word: went., start_time: 29.8, end_time: 30.0\n",
      "Transcript: \n",
      "Confidence: 0.0\n",
      "Transcript: \n",
      "Confidence: 0.0\n",
      "Word: And, start_time: 0.7, end_time: 0.9\n",
      "Word: the, start_time: 0.9, end_time: 1.0\n",
      "Word: reason, start_time: 1.0, end_time: 1.3\n",
      "Word: it's, start_time: 1.3, end_time: 1.4\n",
      "Word: a, start_time: 1.4, end_time: 1.5\n",
      "Word: wonderful, start_time: 1.5, end_time: 1.9\n",
      "Word: hotel, start_time: 1.9, end_time: 2.2\n",
      "Word: is, start_time: 2.2, end_time: 2.3\n",
      "Word: not, start_time: 2.3, end_time: 2.5\n",
      "Word: because, start_time: 2.5, end_time: 2.8\n",
      "Word: of, start_time: 2.8, end_time: 2.9\n",
      "Word: the, start_time: 2.9, end_time: 2.9\n",
      "Word: fancy, start_time: 2.9, end_time: 3.3\n",
      "Word: beds, start_time: 3.3, end_time: 3.8\n",
      "Word: any, start_time: 3.8, end_time: 4.0\n",
      "Word: hotel, start_time: 4.0, end_time: 4.8\n",
      "Word: can, start_time: 4.9, end_time: 5.1\n",
      "Word: go, start_time: 5.1, end_time: 5.4\n",
      "Word: and, start_time: 5.4, end_time: 5.6\n",
      "Word: buy, start_time: 5.6, end_time: 6.3\n",
      "Word: a, start_time: 6.3, end_time: 6.4\n",
      "Word: fancy, start_time: 6.4, end_time: 6.8\n",
      "Word: bed., start_time: 6.8, end_time: 7.3\n",
      "Word: The, start_time: 7.5, end_time: 7.7\n",
      "Word: reason, start_time: 7.7, end_time: 7.9\n",
      "Word: it's, start_time: 7.9, end_time: 8.1\n",
      "Word: a, start_time: 8.1, end_time: 8.1\n",
      "Word: wonderful, start_time: 8.1, end_time: 8.5\n",
      "Word: hotel, start_time: 8.5, end_time: 9.1\n",
      "Word: is, start_time: 9.1, end_time: 9.3\n",
      "Word: because, start_time: 9.3, end_time: 9.6\n",
      "Word: of, start_time: 9.6, end_time: 9.7\n",
      "Word: the, start_time: 9.7, end_time: 9.7\n",
      "Word: people, start_time: 9.7, end_time: 10.0\n",
      "Word: who, start_time: 10.0, end_time: 10.2\n",
      "Word: work, start_time: 10.2, end_time: 10.5\n",
      "Word: there, start_time: 10.5, end_time: 10.9\n",
      "Word: if, start_time: 11.2, end_time: 11.3\n",
      "Word: you, start_time: 11.3, end_time: 11.4\n",
      "Word: walk, start_time: 11.4, end_time: 11.7\n",
      "Word: past, start_time: 11.7, end_time: 12.0\n",
      "Word: somebody, start_time: 12.0, end_time: 12.3\n",
      "Word: at, start_time: 12.3, end_time: 12.3\n",
      "Word: the, start_time: 12.3, end_time: 12.4\n",
      "Word: Four, start_time: 12.4, end_time: 12.6\n",
      "Word: Seasons, start_time: 12.6, end_time: 12.9\n",
      "Word: in, start_time: 12.9, end_time: 13.0\n",
      "Word: this, start_time: 13.0, end_time: 13.3\n",
      "Word: and, start_time: 13.3, end_time: 13.5\n",
      "Word: they, start_time: 13.5, end_time: 13.6\n",
      "Word: say, start_time: 13.6, end_time: 13.7\n",
      "Word: hello, start_time: 13.7, end_time: 14.0\n",
      "Word: to, start_time: 14.0, end_time: 14.1\n",
      "Word: you., start_time: 14.1, end_time: 14.5\n",
      "Word: You, start_time: 14.8, end_time: 14.9\n",
      "Word: get, start_time: 14.9, end_time: 15.0\n",
      "Word: the, start_time: 15.0, end_time: 15.1\n",
      "Word: feeling, start_time: 15.1, end_time: 15.5\n",
      "Word: that, start_time: 15.5, end_time: 15.7\n",
      "Word: they, start_time: 15.7, end_time: 15.8\n",
      "Word: actually, start_time: 15.8, end_time: 16.3\n",
      "Word: wanted, start_time: 16.3, end_time: 16.7\n",
      "Word: to, start_time: 16.7, end_time: 16.7\n",
      "Word: say, start_time: 16.7, end_time: 16.9\n",
      "Word: hello, start_time: 16.9, end_time: 17.2\n",
      "Word: to, start_time: 17.2, end_time: 17.3\n",
      "Word: you., start_time: 17.3, end_time: 17.5\n",
      "Word: It's, start_time: 17.6, end_time: 17.8\n",
      "Word: not, start_time: 17.8, end_time: 17.9\n",
      "Word: that, start_time: 17.9, end_time: 18.0\n",
      "Word: somebody, start_time: 18.0, end_time: 18.2\n",
      "Word: told, start_time: 18.2, end_time: 18.7\n",
      "Word: them, start_time: 18.7, end_time: 18.7\n",
      "Word: that, start_time: 18.7, end_time: 18.9\n",
      "Word: you, start_time: 18.9, end_time: 19.0\n",
      "Word: have, start_time: 19.0, end_time: 19.1\n",
      "Word: to, start_time: 19.1, end_time: 19.2\n",
      "Word: say, start_time: 19.2, end_time: 19.3\n",
      "Word: hello, start_time: 19.3, end_time: 19.5\n",
      "Word: to, start_time: 19.5, end_time: 19.6\n",
      "Word: all, start_time: 19.6, end_time: 19.8\n",
      "Word: the, start_time: 19.8, end_time: 19.9\n",
      "Word: customers, start_time: 19.9, end_time: 20.4\n",
      "Word: say, start_time: 20.5, end_time: 20.6\n",
      "Word: hello, start_time: 20.6, end_time: 20.8\n",
      "Word: to, start_time: 20.8, end_time: 20.9\n",
      "Word: all, start_time: 20.9, end_time: 21.0\n",
      "Word: the, start_time: 21.0, end_time: 21.1\n",
      "Word: guests,, start_time: 21.1, end_time: 21.7\n",
      "Word: right?, start_time: 21.7, end_time: 21.9\n",
      "Word: You, start_time: 21.9, end_time: 22.0\n",
      "Word: actually, start_time: 22.0, end_time: 22.4\n",
      "Word: feel, start_time: 22.4, end_time: 23.3\n",
      "Word: that, start_time: 23.3, end_time: 23.5\n",
      "Word: they, start_time: 23.5, end_time: 23.6\n",
      "Word: care, start_time: 23.6, end_time: 24.1\n",
      "Word: now, start_time: 24.6, end_time: 24.8\n",
      "Word: in, start_time: 24.8, end_time: 25.0\n",
      "Word: their, start_time: 25.0, end_time: 25.2\n",
      "Word: Lobby, start_time: 25.2, end_time: 25.9\n",
      "Word: they, start_time: 25.9, end_time: 26.2\n",
      "Word: have, start_time: 26.2, end_time: 26.9\n",
      "Word: a, start_time: 27.3, end_time: 27.6\n",
      "Word: coffee, start_time: 27.6, end_time: 27.9\n",
      "Word: stand, start_time: 27.9, end_time: 28.5\n",
      "Word: and, start_time: 28.8, end_time: 29.1\n",
      "Word: I, start_time: 29.1, end_time: 29.1\n",
      "Word: want, start_time: 29.1, end_time: 29.3\n",
      "Word: afternoon, start_time: 29.3, end_time: 29.8\n",
      "Word: I, start_time: 29.8, end_time: 29.8\n",
      "Word: went., start_time: 29.8, end_time: 30.0\n",
      "transcript ready\n"
     ]
    }
   ],
   "source": [
    "audio_file = 'simon.wav'\n",
    "# audio_file = 'converted_microjourney.wav'\n",
    "\n",
    "# do only if file is .wav\n",
    "prep_audio_file(audio_file)\n",
    "\n",
    "# upload audio file to storage bucket    \n",
    "upload_blob(bucket, path, audio_file, audio_file)\n",
    "\n",
    "transcript = transcribe_word_time_offsets(audio_file, bucket)\n",
    "# transcript_file = audio_file.split('.')[0] + '_words' + '.txt'\n",
    "\n",
    "# write_transcripts(path,transcript_file,transcript)\n",
    "# print('transcript ready')"
   ]
  },
  {
   "cell_type": "code",
   "execution_count": null,
   "metadata": {},
   "outputs": [],
   "source": []
  }
 ]
}